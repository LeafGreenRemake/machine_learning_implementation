{
 "cells": [
  {
   "cell_type": "markdown",
   "metadata": {},
   "source": [
    "KNN algorithm for classifying different stars into classes."
   ]
  },
  {
   "cell_type": "code",
   "execution_count": 9,
   "metadata": {},
   "outputs": [],
   "source": [
    "import numpy as np\n",
    "import pandas as pd\n",
    "from sklearn.model_selection import train_test_split\n",
    "import matplotlib.pyplot as plt"
   ]
  },
  {
   "cell_type": "code",
   "execution_count": 10,
   "metadata": {},
   "outputs": [
    {
     "name": "stdout",
     "output_type": "stream",
     "text": [
      "   Temperature       L       R    A_M Color Spectral_Class  Type\n",
      "0         3068  0.0024  0.1700  16.12   Red              M     0\n",
      "1         3042  0.0005  0.1542  16.60   Red              M     0\n",
      "2         2600  0.0003  0.1020  18.70   Red              M     0\n"
     ]
    }
   ],
   "source": [
    "url = \"https://sharon.srworkspace.com/ml/datasets/hw1/Stars.csv\"\n",
    "df = pd.read_csv(url)\n",
    "df = df.dropna()\n",
    "print(df.head(3))"
   ]
  },
  {
   "cell_type": "markdown",
   "metadata": {},
   "source": [
    "Convert categorial features to discerete values"
   ]
  },
  {
   "cell_type": "code",
   "execution_count": 11,
   "metadata": {},
   "outputs": [
    {
     "name": "stderr",
     "output_type": "stream",
     "text": [
      "C:\\Users\\sharo\\AppData\\Local\\Temp\\ipykernel_15536\\1466839749.py:5: FutureWarning: Downcasting behavior in `replace` is deprecated and will be removed in a future version. To retain the old behavior, explicitly call `result.infer_objects(copy=False)`. To opt-in to the future behavior, set `pd.set_option('future.no_silent_downcasting', True)`\n",
      "  df['Color'] = df['Color'].replace({color: idx})\n",
      "C:\\Users\\sharo\\AppData\\Local\\Temp\\ipykernel_15536\\1466839749.py:9: FutureWarning: Downcasting behavior in `replace` is deprecated and will be removed in a future version. To retain the old behavior, explicitly call `result.infer_objects(copy=False)`. To opt-in to the future behavior, set `pd.set_option('future.no_silent_downcasting', True)`\n",
      "  df['Spectral_Class'] = df['Spectral_Class'].replace({spec: idx})\n"
     ]
    },
    {
     "data": {
      "text/html": [
       "<div>\n",
       "<style scoped>\n",
       "    .dataframe tbody tr th:only-of-type {\n",
       "        vertical-align: middle;\n",
       "    }\n",
       "\n",
       "    .dataframe tbody tr th {\n",
       "        vertical-align: top;\n",
       "    }\n",
       "\n",
       "    .dataframe thead th {\n",
       "        text-align: right;\n",
       "    }\n",
       "</style>\n",
       "<table border=\"1\" class=\"dataframe\">\n",
       "  <thead>\n",
       "    <tr style=\"text-align: right;\">\n",
       "      <th></th>\n",
       "      <th>Temperature</th>\n",
       "      <th>L</th>\n",
       "      <th>R</th>\n",
       "      <th>A_M</th>\n",
       "      <th>Color</th>\n",
       "      <th>Spectral_Class</th>\n",
       "      <th>Type</th>\n",
       "    </tr>\n",
       "  </thead>\n",
       "  <tbody>\n",
       "    <tr>\n",
       "      <th>0</th>\n",
       "      <td>3068</td>\n",
       "      <td>0.0024</td>\n",
       "      <td>0.1700</td>\n",
       "      <td>16.12</td>\n",
       "      <td>0</td>\n",
       "      <td>0</td>\n",
       "      <td>0</td>\n",
       "    </tr>\n",
       "    <tr>\n",
       "      <th>1</th>\n",
       "      <td>3042</td>\n",
       "      <td>0.0005</td>\n",
       "      <td>0.1542</td>\n",
       "      <td>16.60</td>\n",
       "      <td>0</td>\n",
       "      <td>0</td>\n",
       "      <td>0</td>\n",
       "    </tr>\n",
       "    <tr>\n",
       "      <th>2</th>\n",
       "      <td>2600</td>\n",
       "      <td>0.0003</td>\n",
       "      <td>0.1020</td>\n",
       "      <td>18.70</td>\n",
       "      <td>0</td>\n",
       "      <td>0</td>\n",
       "      <td>0</td>\n",
       "    </tr>\n",
       "  </tbody>\n",
       "</table>\n",
       "</div>"
      ],
      "text/plain": [
       "   Temperature       L       R    A_M  Color  Spectral_Class  Type\n",
       "0         3068  0.0024  0.1700  16.12      0               0     0\n",
       "1         3042  0.0005  0.1542  16.60      0               0     0\n",
       "2         2600  0.0003  0.1020  18.70      0               0     0"
      ]
     },
     "execution_count": 11,
     "metadata": {},
     "output_type": "execute_result"
    }
   ],
   "source": [
    "# converting string features to discrete values\n",
    "\n",
    "colors = df['Color'].unique()\n",
    "for idx, color in enumerate(colors):\n",
    "  df['Color'] = df['Color'].replace({color: idx})\n",
    "\n",
    "spec_class = df['Spectral_Class'].unique()\n",
    "for idx, spec in enumerate(spec_class):\n",
    "  df['Spectral_Class'] = df['Spectral_Class'].replace({spec: idx})\n",
    "df.head(3)"
   ]
  },
  {
   "cell_type": "markdown",
   "metadata": {},
   "source": [
    "Checking the correlation matrix to find if the features are strongly correlated (which impacts if a distance function that resolves correlation should be used)"
   ]
  },
  {
   "cell_type": "code",
   "execution_count": 12,
   "metadata": {},
   "outputs": [
    {
     "data": {
      "image/png": "[encoded data removed]",
      "text/plain": [
       "<Figure size 480x480 with 1 Axes>"
      ]
     },
     "metadata": {},
     "output_type": "display_data"
    }
   ],
   "source": [
    "\n",
    "import matplotlib.pyplot as plt\n",
    "plt.matshow(df.corr())\n",
    "plt.show()"
   ]
  },
  {
   "cell_type": "code",
   "execution_count": 13,
   "metadata": {},
   "outputs": [],
   "source": [
    "from sklearn.model_selection import train_test_split\n",
    "from sklearn.preprocessing import StandardScaler\n",
    "\n",
    "\n",
    "X = df.drop('Type', axis=1)\n",
    "y = df['Type']\n",
    "\n",
    "X_train, X_test, y_train, y_test = train_test_split(X, y, test_size=0.3, random_state=42, stratify=y)\n",
    "X_val, X_test, y_val, y_test = train_test_split(X_train, y_train, test_size=0.5, random_state=42, stratify=y_train)\n",
    "\n",
    "scaler = StandardScaler()\n",
    "X_train = scaler.fit_transform(X_train)\n",
    "X_test = scaler.transform(X_test)"
   ]
  },
  {
   "cell_type": "markdown",
   "metadata": {},
   "source": [
    "Euclidean distance calculations"
   ]
  },
  {
   "cell_type": "code",
   "execution_count": 14,
   "metadata": {},
   "outputs": [],
   "source": [
    "def Euclidean(test, data):\n",
    "    distances = np.zeros((test.shape[0], data.shape[0]))\n",
    "\n",
    "    test_mean = test.mean()\n",
    "    test_std = test.std()\n",
    "    new_test = (test - test_mean) / test_std\n",
    "    \n",
    "    data_mean = data.mean()\n",
    "    data_std = data.std()\n",
    "    new_data = (data - data_mean) / data_std\n",
    "\n",
    "    for i in range(test.shape[0]):\n",
    "      for j in range(data.shape[0]):\n",
    "         addUp = 0\n",
    "         for m in range(data.shape[1]):\n",
    "            addUp = addUp + pow(new_test[i,m] - new_data[j,m], 2)\n",
    "         distances[i,j] = np.sqrt(addUp)\n",
    "    return distances\n",
    "\n",
    "\n",
    "def Mahalanobis(test, data):\n",
    "  distances = np.zeros((test.shape[0], data.shape[0]))\n",
    "  covariance_matrix_data = np.cov(data, rowvar=False)\n",
    "\n",
    "  # Calculate the Mahalanobis distances\n",
    "  for i in range(test.shape[0]):\n",
    "      for j in range(data.shape[0]):\n",
    "          diff =  test[i] - data[j]\n",
    "          distances[i, j] = np.sqrt(np.dot(np.dot(diff, np.linalg.inv(covariance_matrix_data)), diff.T))\n",
    "  return distances"
   ]
  },
  {
   "cell_type": "markdown",
   "metadata": {},
   "source": [
    "Finding classification predictions based on KNN"
   ]
  },
  {
   "cell_type": "code",
   "execution_count": 15,
   "metadata": {},
   "outputs": [],
   "source": [
    "def kNN_classify(data, labels, test, k, metric, p = 1):\n",
    "  if (metric == 'Minkowski'):\n",
    "    arguments = (test, data, p)\n",
    "  else:\n",
    "    arguments = (test, data)\n",
    "  distances = eval(f'{metric}(*arguments)')  #returns np[][] |test| X |data| by the given metric.\n",
    "  \n",
    "  #implement here\n",
    "  k_nearest_labels = np.zeros(test.shape[0])\n",
    "  for i in range(test.shape[0]):\n",
    "    sorted_distances = np.argsort(distances[i])\n",
    "    closest = sorted_distances[:k]\n",
    "    closest_labels = labels.iloc[closest]\n",
    "    label_predict = closest_labels.mode()[0]\n",
    "    k_nearest_labels[i] = label_predict\n",
    "\n",
    "  return k_nearest_labels\n",
    "  "
   ]
  },
  {
   "cell_type": "markdown",
   "metadata": {},
   "source": [
    "Euclidean vs. Mahalabonis distance"
   ]
  },
  {
   "cell_type": "code",
   "execution_count": 16,
   "metadata": {},
   "outputs": [
    {
     "data": {
      "image/png": "[encoded data removed]",
      "text/plain": [
       "<Figure size 1200x500 with 2 Axes>"
      ]
     },
     "metadata": {},
     "output_type": "display_data"
    }
   ],
   "source": [
    "from sklearn.metrics import accuracy_score\n",
    "\n",
    "metrics = ['Euclidean', 'Mahalanobis']\n",
    "fig, axs = plt.subplots(1, 2, figsize=(12, 5))\n",
    "\n",
    "for idx, metric in enumerate(metrics):\n",
    "\n",
    "  ks = np.arange(1, 41, 2)\n",
    "  accs = []\n",
    "  for k in ks:\n",
    "    c = kNN_classify(X_train, y_train, X_test, k, metric)\n",
    "    accs.append(100 * accuracy_score(y_test, c))\n",
    "       # Implement here\n",
    "\n",
    "  axs[idx % 2].plot(ks, accs, color='red')\n",
    "  axs[idx % 2].set_xlabel('k')\n",
    "  axs[idx % 2].set_ylabel('accuracy')\n",
    "  axs[idx % 2].set_title(metric)\n",
    "  axs[idx % 2].set_xticks(ks)\n",
    "plt.show()"
   ]
  }
 ],
 "metadata": {
  "kernelspec": {
   "display_name": "Python 3",
   "language": "python",
   "name": "python3"
  },
  "language_info": {
   "codemirror_mode": {
    "name": "ipython",
    "version": 3
   },
   "file_extension": ".py",
   "mimetype": "text/x-python",
   "name": "python",
   "nbconvert_exporter": "python",
   "pygments_lexer": "ipython3",
   "version": "3.11.9"
  }
 },
 "nbformat": 4,
 "nbformat_minor": 2
}
